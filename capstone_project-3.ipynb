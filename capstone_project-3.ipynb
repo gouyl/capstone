{
 "cells": [
  {
   "cell_type": "code",
   "execution_count": 1,
   "metadata": {
    "collapsed": false
   },
   "outputs": [
    {
     "name": "stderr",
     "output_type": "stream",
     "text": [
      "Using TensorFlow backend.\n"
     ]
    }
   ],
   "source": [
    "# -*- coding:utf-8 -*- \n",
    "import matplotlib.pyplot as plt\n",
    "import numpy as np\n",
    "from keras.preprocessing.image import ImageDataGenerator\n",
    "from keras.models import Sequential\n",
    "from keras.layers import Dropout, Flatten, Dense,  Input\n",
    "from keras import applications\n",
    "from keras.callbacks import  Callback\n",
    "from keras import optimizers\n",
    "from keras.models import Model\n",
    "import sys  \n",
    "%matplotlib inline"
   ]
  },
  {
   "cell_type": "code",
   "execution_count": 2,
   "metadata": {
    "collapsed": true
   },
   "outputs": [],
   "source": [
    "img_width, img_height = 150, 150\n",
    "\n",
    "top_model_weights_path = 'bottleneck_fc_model.h5'\n",
    "train_data_dir = 'data/train'\n",
    "validation_data_dir = 'data/validation'\n",
    "nb_train_samples = 2000\n",
    "nb_validation_samples = 800\n",
    "epochs = 50\n",
    "batch_size = 16"
   ]
  },
  {
   "cell_type": "code",
   "execution_count": 3,
   "metadata": {
    "collapsed": true
   },
   "outputs": [],
   "source": [
    "def save_bottlebeck_features():\n",
    "    datagen = ImageDataGenerator(rescale=1. / 255)\n",
    "\n",
    "    # build the VGG16 network\n",
    "    model = applications.VGG16(include_top=False, weights='imagenet')\n",
    "\n",
    "    generator = datagen.flow_from_directory(\n",
    "        train_data_dir,\n",
    "        target_size=(img_width, img_height),\n",
    "        batch_size=batch_size,\n",
    "        class_mode=None,\n",
    "        shuffle=False)\n",
    "    bottleneck_features_train = model.predict_generator(generator, nb_train_samples // batch_size)\n",
    "    np.save(open('bottleneck_features_train.npy', 'wb'),bottleneck_features_train)\n",
    "\n",
    "    generator = datagen.flow_from_directory(\n",
    "        validation_data_dir,\n",
    "        target_size=(img_width, img_height),\n",
    "        batch_size=batch_size,\n",
    "        class_mode=None,\n",
    "        shuffle=False)\n",
    "    bottleneck_features_validation = model.predict_generator(generator, nb_validation_samples // batch_size)\n",
    "    np.save(open('bottleneck_features_validation.npy', 'wb'),bottleneck_features_validation)\n"
   ]
  },
  {
   "cell_type": "code",
   "execution_count": 9,
   "metadata": {
    "collapsed": false,
    "scrolled": false
   },
   "outputs": [
    {
     "name": "stdout",
     "output_type": "stream",
     "text": [
      "Found 2000 images belonging to 2 classes.\n",
      "Found 800 images belonging to 2 classes.\n"
     ]
    }
   ],
   "source": [
    "save_bottlebeck_features()"
   ]
  },
  {
   "cell_type": "code",
   "execution_count": 11,
   "metadata": {
    "collapsed": true
   },
   "outputs": [],
   "source": [
    "class LossHistory(Callback):\n",
    "    def on_train_begin(self, logs={}):\n",
    "        self.losses = []\n",
    "        self.acc = []\n",
    "        self.val_acc = []\n",
    "\n",
    "        \n",
    "    def on_epoch_end(self, batch, logs={}):\n",
    "        self.losses.append(logs.get('loss'))\n",
    "        self.acc.append(logs.get('acc'))\n",
    "        self.val_acc.append(logs.get('val_acc'))"
   ]
  },
  {
   "cell_type": "code",
   "execution_count": 12,
   "metadata": {
    "collapsed": true
   },
   "outputs": [],
   "source": [
    "def train_top_model():\n",
    "    train_data = np.load(open('bottleneck_features_train.npy','rb'))\n",
    "    train_labels = np.array( [0] * int(nb_train_samples / 2) + [1] * int(nb_train_samples / 2))\n",
    "\n",
    "    validation_data = np.load(open('bottleneck_features_validation.npy','rb'))\n",
    "    \n",
    "    validation_labels = np.array( [0] * int(nb_validation_samples / 2) + [1] * int(nb_validation_samples / 2))\n",
    "\n",
    "    model = Sequential()\n",
    "    model.add(Flatten(input_shape=train_data.shape[1:]))\n",
    "    model.add(Dense(256, activation='relu'))\n",
    "    model.add(Dropout(0.5))\n",
    "    model.add(Dense(1, activation='sigmoid'))\n",
    "\n",
    "    model.compile(optimizer='rmsprop',\n",
    "                  loss='binary_crossentropy', metrics=['accuracy'])\n",
    "\n",
    "    return train_data ,train_labels,validation_data,validation_labels,model"
   ]
  },
  {
   "cell_type": "code",
   "execution_count": 13,
   "metadata": {
    "collapsed": true
   },
   "outputs": [],
   "source": [
    "train_data ,train_labels,validation_data,validation_labels,model = train_top_model()"
   ]
  },
  {
   "cell_type": "code",
   "execution_count": 14,
   "metadata": {
    "collapsed": false,
    "scrolled": false
   },
   "outputs": [
    {
     "name": "stdout",
     "output_type": "stream",
     "text": [
      "Train on 2000 samples, validate on 800 samples\n",
      "Epoch 1/50\n",
      "2000/2000 [==============================] - 33s - loss: 0.6364 - acc: 0.7720 - val_loss: 0.3972 - val_acc: 0.8200\n",
      "Epoch 2/50\n",
      "2000/2000 [==============================] - 0s - loss: 0.3373 - acc: 0.8610 - val_loss: 0.3206 - val_acc: 0.8688\n",
      "Epoch 3/50\n",
      "2000/2000 [==============================] - 0s - loss: 0.3028 - acc: 0.8845 - val_loss: 0.2428 - val_acc: 0.9025\n",
      "Epoch 4/50\n",
      "2000/2000 [==============================] - 0s - loss: 0.2548 - acc: 0.9045 - val_loss: 0.3026 - val_acc: 0.8950\n",
      "Epoch 5/50\n",
      "2000/2000 [==============================] - 0s - loss: 0.2328 - acc: 0.9150 - val_loss: 0.3399 - val_acc: 0.8800\n",
      "Epoch 6/50\n",
      "2000/2000 [==============================] - 0s - loss: 0.1895 - acc: 0.9265 - val_loss: 0.3199 - val_acc: 0.9000\n",
      "Epoch 7/50\n",
      "2000/2000 [==============================] - 0s - loss: 0.1936 - acc: 0.9255 - val_loss: 0.3337 - val_acc: 0.8938\n",
      "Epoch 8/50\n",
      "2000/2000 [==============================] - 0s - loss: 0.1599 - acc: 0.9410 - val_loss: 0.3224 - val_acc: 0.9087\n",
      "Epoch 9/50\n",
      "2000/2000 [==============================] - 0s - loss: 0.1458 - acc: 0.9500 - val_loss: 0.3583 - val_acc: 0.8900\n",
      "Epoch 10/50\n",
      "2000/2000 [==============================] - 0s - loss: 0.1324 - acc: 0.9495 - val_loss: 0.3654 - val_acc: 0.9000\n",
      "Epoch 11/50\n",
      "2000/2000 [==============================] - 0s - loss: 0.1107 - acc: 0.9560 - val_loss: 0.3866 - val_acc: 0.8975\n",
      "Epoch 12/50\n",
      "2000/2000 [==============================] - 0s - loss: 0.1046 - acc: 0.9640 - val_loss: 0.4040 - val_acc: 0.9025\n",
      "Epoch 13/50\n",
      "2000/2000 [==============================] - 0s - loss: 0.1174 - acc: 0.9545 - val_loss: 0.5278 - val_acc: 0.8888\n",
      "Epoch 14/50\n",
      "2000/2000 [==============================] - 0s - loss: 0.0725 - acc: 0.9715 - val_loss: 0.4741 - val_acc: 0.8900\n",
      "Epoch 15/50\n",
      "2000/2000 [==============================] - 0s - loss: 0.0754 - acc: 0.9725 - val_loss: 0.5437 - val_acc: 0.8912\n",
      "Epoch 16/50\n",
      "2000/2000 [==============================] - 0s - loss: 0.0874 - acc: 0.9720 - val_loss: 0.4694 - val_acc: 0.8988\n",
      "Epoch 17/50\n",
      "2000/2000 [==============================] - 0s - loss: 0.0534 - acc: 0.9810 - val_loss: 0.5405 - val_acc: 0.8925\n",
      "Epoch 18/50\n",
      "2000/2000 [==============================] - 0s - loss: 0.0563 - acc: 0.9800 - val_loss: 0.6441 - val_acc: 0.8888\n",
      "Epoch 19/50\n",
      "2000/2000 [==============================] - 0s - loss: 0.0793 - acc: 0.9760 - val_loss: 0.5291 - val_acc: 0.9012\n",
      "Epoch 20/50\n",
      "2000/2000 [==============================] - 0s - loss: 0.0370 - acc: 0.9825 - val_loss: 0.7044 - val_acc: 0.8938\n",
      "Epoch 21/50\n",
      "2000/2000 [==============================] - 0s - loss: 0.0466 - acc: 0.9815 - val_loss: 0.7177 - val_acc: 0.8925\n",
      "Epoch 22/50\n",
      "2000/2000 [==============================] - 0s - loss: 0.0331 - acc: 0.9900 - val_loss: 0.6734 - val_acc: 0.8938\n",
      "Epoch 23/50\n",
      "2000/2000 [==============================] - 0s - loss: 0.0383 - acc: 0.9870 - val_loss: 0.7396 - val_acc: 0.8838\n",
      "Epoch 24/50\n",
      "2000/2000 [==============================] - 0s - loss: 0.0422 - acc: 0.9860 - val_loss: 0.6626 - val_acc: 0.9012\n",
      "Epoch 25/50\n",
      "2000/2000 [==============================] - 0s - loss: 0.0458 - acc: 0.9855 - val_loss: 0.7474 - val_acc: 0.8962\n",
      "Epoch 26/50\n",
      "2000/2000 [==============================] - 0s - loss: 0.0299 - acc: 0.9910 - val_loss: 0.7266 - val_acc: 0.9012\n",
      "Epoch 27/50\n",
      "2000/2000 [==============================] - 0s - loss: 0.0387 - acc: 0.9890 - val_loss: 0.7574 - val_acc: 0.8962\n",
      "Epoch 28/50\n",
      "2000/2000 [==============================] - 0s - loss: 0.0245 - acc: 0.9925 - val_loss: 0.9502 - val_acc: 0.8775\n",
      "Epoch 29/50\n",
      "2000/2000 [==============================] - 0s - loss: 0.0261 - acc: 0.9920 - val_loss: 0.7485 - val_acc: 0.8950\n",
      "Epoch 30/50\n",
      "2000/2000 [==============================] - 0s - loss: 0.0282 - acc: 0.9900 - val_loss: 0.9792 - val_acc: 0.8888\n",
      "Epoch 31/50\n",
      "2000/2000 [==============================] - 0s - loss: 0.0267 - acc: 0.9915 - val_loss: 0.8240 - val_acc: 0.9025\n",
      "Epoch 32/50\n",
      "2000/2000 [==============================] - 0s - loss: 0.0214 - acc: 0.9925 - val_loss: 0.8533 - val_acc: 0.8988\n",
      "Epoch 33/50\n",
      "2000/2000 [==============================] - 0s - loss: 0.0155 - acc: 0.9950 - val_loss: 0.9298 - val_acc: 0.8988\n",
      "Epoch 34/50\n",
      "2000/2000 [==============================] - 0s - loss: 0.0250 - acc: 0.9955 - val_loss: 0.9091 - val_acc: 0.9025\n",
      "Epoch 35/50\n",
      "2000/2000 [==============================] - 0s - loss: 0.0142 - acc: 0.9955 - val_loss: 0.7731 - val_acc: 0.9025\n",
      "Epoch 36/50\n",
      "2000/2000 [==============================] - 0s - loss: 0.0135 - acc: 0.9955 - val_loss: 0.8650 - val_acc: 0.9000\n",
      "Epoch 37/50\n",
      "2000/2000 [==============================] - 0s - loss: 0.0240 - acc: 0.9950 - val_loss: 0.8648 - val_acc: 0.9012\n",
      "Epoch 38/50\n",
      "2000/2000 [==============================] - 0s - loss: 0.0137 - acc: 0.9955 - val_loss: 0.9140 - val_acc: 0.9000\n",
      "Epoch 39/50\n",
      "2000/2000 [==============================] - 0s - loss: 0.0213 - acc: 0.9930 - val_loss: 0.8682 - val_acc: 0.9025\n",
      "Epoch 40/50\n",
      "2000/2000 [==============================] - 0s - loss: 0.0150 - acc: 0.9940 - val_loss: 0.8967 - val_acc: 0.9012\n",
      "Epoch 41/50\n",
      "2000/2000 [==============================] - 0s - loss: 0.0214 - acc: 0.9940 - val_loss: 0.9510 - val_acc: 0.8962\n",
      "Epoch 42/50\n",
      "2000/2000 [==============================] - 0s - loss: 0.0136 - acc: 0.9930 - val_loss: 0.9581 - val_acc: 0.8938\n",
      "Epoch 43/50\n",
      "2000/2000 [==============================] - 0s - loss: 0.0230 - acc: 0.9940 - val_loss: 0.9318 - val_acc: 0.8962\n",
      "Epoch 44/50\n",
      "2000/2000 [==============================] - 0s - loss: 0.0139 - acc: 0.9945 - val_loss: 0.9270 - val_acc: 0.8950\n",
      "Epoch 45/50\n",
      "2000/2000 [==============================] - 0s - loss: 0.0060 - acc: 0.9980 - val_loss: 0.9286 - val_acc: 0.8962\n",
      "Epoch 46/50\n",
      "2000/2000 [==============================] - 0s - loss: 0.0134 - acc: 0.9955 - val_loss: 0.9363 - val_acc: 0.9000\n",
      "Epoch 47/50\n",
      "2000/2000 [==============================] - 0s - loss: 0.0194 - acc: 0.9950 - val_loss: 0.9239 - val_acc: 0.8938\n",
      "Epoch 48/50\n",
      "2000/2000 [==============================] - 0s - loss: 0.0096 - acc: 0.9955 - val_loss: 0.9804 - val_acc: 0.9012\n",
      "Epoch 49/50\n",
      "2000/2000 [==============================] - 0s - loss: 0.0199 - acc: 0.9940 - val_loss: 0.9265 - val_acc: 0.8988\n",
      "Epoch 50/50\n",
      "2000/2000 [==============================] - 0s - loss: 0.0089 - acc: 0.9965 - val_loss: 1.0324 - val_acc: 0.8950\n"
     ]
    }
   ],
   "source": [
    "history = LossHistory()\n",
    "\n",
    "model.fit(train_data, train_labels, \n",
    "          epochs=epochs, \n",
    "          batch_size=batch_size, \n",
    "          callbacks=[history],\n",
    "          validation_data=(validation_data, validation_labels))\n",
    "model.save_weights(top_model_weights_path)"
   ]
  },
  {
   "cell_type": "code",
   "execution_count": 15,
   "metadata": {
    "collapsed": false
   },
   "outputs": [
    {
     "data": {
      "image/png": "[encoded data removed]",
      "text/plain": [
       "<matplotlib.figure.Figure at 0x7ff663352b10>"
      ]
     },
     "metadata": {},
     "output_type": "display_data"
    }
   ],
   "source": [
    "loss = history.losses\n",
    "acc = history.acc\n",
    "val_acc = history.val_acc\n",
    "\n",
    "\n",
    "plt.xlabel('Epochs')\n",
    "plt.ylabel('Loss & Acc')\n",
    "plt.title('VGG-16 Model')\n",
    "\n",
    "plt.plot(val_acc, 'black', label='Val_acc')\n",
    "plt.plot(loss, 'blue', label='Loss')\n",
    "plt.plot(acc, 'green', label='Acc')\n",
    "\n",
    "plt.legend()\n",
    "plt.show()"
   ]
  },
  {
   "cell_type": "markdown",
   "metadata": {},
   "source": [
    "fine-tune"
   ]
  },
  {
   "cell_type": "code",
   "execution_count": 31,
   "metadata": {
    "collapsed": false
   },
   "outputs": [
    {
     "name": "stdout",
     "output_type": "stream",
     "text": [
      "Model loaded.\n"
     ]
    }
   ],
   "source": [
    "#weights_path = '../keras/examples/vgg16_weights.h5'\n",
    "top_model_weights_path = 'bottleneck_fc_model.h5'\n",
    "# dimensions of our images.\n",
    "img_width, img_height = 150, 150\n",
    "\n",
    "train_data_dir = 'data/train'\n",
    "validation_data_dir = 'data/validation'\n",
    "nb_train_samples = 2000\n",
    "nb_validation_samples = 800\n",
    "epochs = 10\n",
    "batch_size = 16\n",
    "\n",
    "# build the VGG16 network\n",
    "input_tensor = Input(shape=(img_width, img_height, 3))\n",
    "\n",
    "base_model = applications.VGG16(weights='imagenet', include_top=False, input_tensor = input_tensor)\n",
    "print('Model loaded.')\n",
    "\n",
    "top_model = Sequential()\n",
    "top_model.add(Flatten(input_shape=base_model.output_shape[1:]))\n",
    "top_model.add(Dense(256, activation='relu'))\n",
    "top_model.add(Dropout(0.5))\n",
    "top_model.add(Dense(1, activation='sigmoid'))\n",
    "top_model.load_weights(top_model_weights_path)\n",
    "\n",
    "\n",
    "x = base_model.output\n",
    "x = Flatten(weights=top_model.layers[0].get_weights())(x)\n",
    "x = Dense(256, activation='relu',weights=top_model.layers[1].get_weights())(x)\n",
    "x = Dropout(0.5,weights=top_model.layers[2].get_weights())(x)\n",
    "# and a logistic layer -- let's say we have 200 classes\n",
    "predictions = Dense(1, activation='sigmoid',weights=top_model.layers[3].get_weights())(x)\n",
    "\n",
    "\n",
    "\n",
    "model = Model(inputs=base_model.input, outputs=predictions)\n",
    "\n",
    "\n",
    "\n",
    "for layer in model.layers[:15]:\n",
    "    layer.trainable = False\n",
    "    \n",
    "# add the model on top of the convolutional base\n",
    "#model.add(top_model)\n",
    "\n",
    "# set the first 25 layers (up to the last conv block)\n",
    "# to non-trainable (weights will not be updated)\n",
    "\n",
    "# compile the model with a SGD/momentum optimizer\n",
    "# and a very slow learning rate.\n",
    "model.compile(loss='binary_crossentropy',\n",
    "              optimizer=optimizers.SGD(lr=1e-4, momentum=0.9),\n",
    "              metrics=['accuracy'])"
   ]
  },
  {
   "cell_type": "markdown",
   "metadata": {},
   "source": [
    "###  prepare data augmentation configuration"
   ]
  },
  {
   "cell_type": "code",
   "execution_count": 32,
   "metadata": {
    "collapsed": false
   },
   "outputs": [
    {
     "name": "stdout",
     "output_type": "stream",
     "text": [
      "Found 2000 images belonging to 2 classes.\n",
      "Found 800 images belonging to 2 classes.\n"
     ]
    }
   ],
   "source": [
    "train_datagen = ImageDataGenerator(\n",
    "    rescale=1. / 255,\n",
    "    shear_range=0.2,\n",
    "    zoom_range=0.2,\n",
    "    horizontal_flip=True)\n",
    "\n",
    "test_datagen = ImageDataGenerator(rescale=1. / 255)\n",
    "\n",
    "train_generator = train_datagen.flow_from_directory(\n",
    "    train_data_dir,\n",
    "    target_size=(img_height, img_width),\n",
    "    batch_size=batch_size,\n",
    "    class_mode='binary')\n",
    "\n",
    "validation_generator = test_datagen.flow_from_directory(\n",
    "    validation_data_dir,\n",
    "    target_size=(img_height, img_width),\n",
    "    batch_size=batch_size,\n",
    "    class_mode='binary')\n"
   ]
  },
  {
   "cell_type": "markdown",
   "metadata": {},
   "source": [
    "###  fine-tune the model"
   ]
  },
  {
   "cell_type": "code",
   "execution_count": 34,
   "metadata": {
    "collapsed": false,
    "scrolled": false
   },
   "outputs": [
    {
     "name": "stdout",
     "output_type": "stream",
     "text": [
      "Epoch 1/10\n",
      "2000/2000 [==============================] - 514s - loss: 3.0635e-04 - acc: 0.9998 - val_loss: 0.5396 - val_acc: 0.9334\n",
      "Epoch 2/10\n",
      "2000/2000 [==============================] - 513s - loss: 1.2537e-04 - acc: 1.0000 - val_loss: 0.5341 - val_acc: 0.9400\n",
      "Epoch 3/10\n",
      "2000/2000 [==============================] - 515s - loss: 6.8741e-04 - acc: 0.9998 - val_loss: 0.5451 - val_acc: 0.9287\n",
      "Epoch 4/10\n",
      "2000/2000 [==============================] - 514s - loss: 5.9468e-04 - acc: 0.9997 - val_loss: 0.4978 - val_acc: 0.9404\n",
      "Epoch 5/10\n",
      "2000/2000 [==============================] - 515s - loss: 0.0011 - acc: 0.9998 - val_loss: 0.4324 - val_acc: 0.9386\n",
      "Epoch 6/10\n",
      "2000/2000 [==============================] - 515s - loss: 0.0020 - acc: 0.9996 - val_loss: 0.4647 - val_acc: 0.9400\n",
      "Epoch 7/10\n",
      "2000/2000 [==============================] - 514s - loss: 3.4394e-04 - acc: 0.9999 - val_loss: 0.5133 - val_acc: 0.9437\n",
      "Epoch 8/10\n",
      "2000/2000 [==============================] - 514s - loss: 6.3384e-04 - acc: 0.9998 - val_loss: 0.5308 - val_acc: 0.9381\n",
      "Epoch 9/10\n",
      "2000/2000 [==============================] - 515s - loss: 0.0020 - acc: 0.9995 - val_loss: 0.5004 - val_acc: 0.9339\n",
      "Epoch 10/10\n",
      "2000/2000 [==============================] - 515s - loss: 3.2302e-04 - acc: 0.9999 - val_loss: 0.5087 - val_acc: 0.9424\n"
     ]
    },
    {
     "data": {
      "text/plain": [
       "<keras.callbacks.History at 0x7ff628071950>"
      ]
     },
     "execution_count": 34,
     "metadata": {},
     "output_type": "execute_result"
    }
   ],
   "source": [
    "history = LossHistory()\n",
    "\n",
    "model.fit_generator(\n",
    "    generator=train_generator,\n",
    "    steps_per_epoch=nb_train_samples ,\n",
    "    epochs=10,\n",
    "    callbacks=[history],\n",
    "    validation_data=validation_generator,\n",
    "    validation_steps=nb_validation_samples)"
   ]
  },
  {
   "cell_type": "code",
   "execution_count": 35,
   "metadata": {
    "collapsed": false
   },
   "outputs": [
    {
     "data": {
      "image/png": "[encoded data removed]",
      "text/plain": [
       "<matplotlib.figure.Figure at 0x7ff66197b350>"
      ]
     },
     "metadata": {},
     "output_type": "display_data"
    }
   ],
   "source": [
    "loss = history.losses\n",
    "acc = history.acc\n",
    "val_acc = history.val_acc\n",
    "\n",
    "\n",
    "plt.xlabel('Epochs')\n",
    "plt.ylabel('Loss & Acc')\n",
    "plt.title('VGG-16 Model')\n",
    "\n",
    "plt.plot(val_acc, 'black', label='Val_acc')\n",
    "plt.plot(loss, 'blue', label='Loss')\n",
    "plt.plot(acc, 'green', label='Acc')\n",
    "\n",
    "plt.legend()\n",
    "plt.show()"
   ]
  },
  {
   "cell_type": "code",
   "execution_count": null,
   "metadata": {
    "collapsed": true
   },
   "outputs": [],
   "source": []
  }
 ],
 "metadata": {
  "anaconda-cloud": {},
  "kernelspec": {
   "display_name": "Python [conda env:mlnd-dl]",
   "language": "python",
   "name": "conda-env-mlnd-dl-py"
  },
  "language_info": {
   "codemirror_mode": {
    "name": "ipython",
    "version": 2
   },
   "file_extension": ".py",
   "mimetype": "text/x-python",
   "name": "python",
   "nbconvert_exporter": "python",
   "pygments_lexer": "ipython2",
   "version": "2.7.12"
  }
 },
 "nbformat": 4,
 "nbformat_minor": 2
}
